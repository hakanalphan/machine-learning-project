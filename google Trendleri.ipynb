{
 "cells": [
  {
   "cell_type": "markdown",
   "id": "d8de55e1",
   "metadata": {},
   "source": [
    "### google trendleri"
   ]
  },
  {
   "cell_type": "code",
   "execution_count": 2,
   "id": "bbd41233",
   "metadata": {},
   "outputs": [
    {
     "name": "stdout",
     "output_type": "stream",
     "text": [
      "Collecting pytrends\n",
      "  Obtaining dependency information for pytrends from https://files.pythonhosted.org/packages/68/ba/7a24a3723c790000faf880505ff1cc46f4d29f46dd353037938a070c4d23/pytrends-4.9.2-py3-none-any.whl.metadata\n",
      "  Downloading pytrends-4.9.2-py3-none-any.whl.metadata (13 kB)\n",
      "Requirement already satisfied: requests>=2.0 in c:\\users\\flutt\\anaconda3\\lib\\site-packages (from pytrends) (2.31.0)\n",
      "Requirement already satisfied: pandas>=0.25 in c:\\users\\flutt\\anaconda3\\lib\\site-packages (from pytrends) (2.0.3)\n",
      "Requirement already satisfied: lxml in c:\\users\\flutt\\anaconda3\\lib\\site-packages (from pytrends) (4.9.3)\n",
      "Requirement already satisfied: python-dateutil>=2.8.2 in c:\\users\\flutt\\anaconda3\\lib\\site-packages (from pandas>=0.25->pytrends) (2.8.2)\n",
      "Requirement already satisfied: pytz>=2020.1 in c:\\users\\flutt\\anaconda3\\lib\\site-packages (from pandas>=0.25->pytrends) (2023.3.post1)\n",
      "Requirement already satisfied: tzdata>=2022.1 in c:\\users\\flutt\\anaconda3\\lib\\site-packages (from pandas>=0.25->pytrends) (2023.3)\n",
      "Requirement already satisfied: numpy>=1.21.0 in c:\\users\\flutt\\anaconda3\\lib\\site-packages (from pandas>=0.25->pytrends) (1.24.3)\n",
      "Requirement already satisfied: charset-normalizer<4,>=2 in c:\\users\\flutt\\anaconda3\\lib\\site-packages (from requests>=2.0->pytrends) (2.0.4)\n",
      "Requirement already satisfied: idna<4,>=2.5 in c:\\users\\flutt\\anaconda3\\lib\\site-packages (from requests>=2.0->pytrends) (3.4)\n",
      "Requirement already satisfied: urllib3<3,>=1.21.1 in c:\\users\\flutt\\anaconda3\\lib\\site-packages (from requests>=2.0->pytrends) (1.26.16)\n",
      "Requirement already satisfied: certifi>=2017.4.17 in c:\\users\\flutt\\anaconda3\\lib\\site-packages (from requests>=2.0->pytrends) (2023.7.22)\n",
      "Requirement already satisfied: six>=1.5 in c:\\users\\flutt\\anaconda3\\lib\\site-packages (from python-dateutil>=2.8.2->pandas>=0.25->pytrends) (1.16.0)\n",
      "Downloading pytrends-4.9.2-py3-none-any.whl (15 kB)\n",
      "Installing collected packages: pytrends\n",
      "Successfully installed pytrends-4.9.2\n",
      "Note: you may need to restart the kernel to use updated packages.\n"
     ]
    }
   ],
   "source": [
    "pip install pytrends\n"
   ]
  },
  {
   "cell_type": "code",
   "execution_count": 6,
   "id": "7707bc73",
   "metadata": {},
   "outputs": [
    {
     "ename": "ImportError",
     "evalue": "cannot import name 'TrendReg' from 'pytrends.request' (C:\\Users\\flutt\\anaconda3\\Lib\\site-packages\\pytrends\\request.py)",
     "output_type": "error",
     "traceback": [
      "\u001b[1;31m---------------------------------------------------------------------------\u001b[0m",
      "\u001b[1;31mImportError\u001b[0m                               Traceback (most recent call last)",
      "Cell \u001b[1;32mIn[6], line 1\u001b[0m\n\u001b[1;32m----> 1\u001b[0m \u001b[38;5;28;01mfrom\u001b[39;00m \u001b[38;5;21;01mpytrends\u001b[39;00m\u001b[38;5;21;01m.\u001b[39;00m\u001b[38;5;21;01mrequest\u001b[39;00m \u001b[38;5;28;01mimport\u001b[39;00m TrendReg\n\u001b[0;32m      2\u001b[0m pytrends\u001b[38;5;241m=\u001b[39mTrendReg()\n\u001b[0;32m      3\u001b[0m keywords\u001b[38;5;241m=\u001b[39m[\u001b[38;5;124m'\u001b[39m\u001b[38;5;124mPython\u001b[39m\u001b[38;5;124m'\u001b[39m,\u001b[38;5;124m'\u001b[39m\u001b[38;5;124mhakan alphan\u001b[39m\u001b[38;5;124m'\u001b[39m,\u001b[38;5;124m'\u001b[39m\u001b[38;5;124mR\u001b[39m\u001b[38;5;124m'\u001b[39m]\n",
      "\u001b[1;31mImportError\u001b[0m: cannot import name 'TrendReg' from 'pytrends.request' (C:\\Users\\flutt\\anaconda3\\Lib\\site-packages\\pytrends\\request.py)"
     ]
    }
   ],
   "source": [
    "from pytrends.request import TrendReg\n",
    "pytrends=TrendReg()\n",
    "keywords=['Python','hakan alphan','R']\n",
    "pytrends.build_payload(keywords,timeframe='today 5-y')\n"
   ]
  },
  {
   "cell_type": "code",
   "execution_count": 7,
   "id": "4dd7f78a",
   "metadata": {},
   "outputs": [
    {
     "ename": "NameError",
     "evalue": "name 'pytrends' is not defined",
     "output_type": "error",
     "traceback": [
      "\u001b[1;31m---------------------------------------------------------------------------\u001b[0m",
      "\u001b[1;31mNameError\u001b[0m                                 Traceback (most recent call last)",
      "Cell \u001b[1;32mIn[7], line 1\u001b[0m\n\u001b[1;32m----> 1\u001b[0m df\u001b[38;5;241m=\u001b[39mpytrends\u001b[38;5;241m.\u001b[39minterest_over_time()\n\u001b[0;32m      2\u001b[0m \u001b[38;5;28;01mdel\u001b[39;00m df[\u001b[38;5;124m'\u001b[39m\u001b[38;5;124mİsPartial\u001b[39m\u001b[38;5;124m'\u001b[39m]\n\u001b[0;32m      3\u001b[0m df\u001b[38;5;241m.\u001b[39mhead\n",
      "\u001b[1;31mNameError\u001b[0m: name 'pytrends' is not defined"
     ]
    }
   ],
   "source": [
    "df=pytrends.interest_over_time()\n",
    "del df['İsPartial']\n",
    "df.head"
   ]
  },
  {
   "cell_type": "code",
   "execution_count": null,
   "id": "f4bc0145",
   "metadata": {},
   "outputs": [],
   "source": []
  }
 ],
 "metadata": {
  "kernelspec": {
   "display_name": "Python 3 (ipykernel)",
   "language": "python",
   "name": "python3"
  },
  "language_info": {
   "codemirror_mode": {
    "name": "ipython",
    "version": 3
   },
   "file_extension": ".py",
   "mimetype": "text/x-python",
   "name": "python",
   "nbconvert_exporter": "python",
   "pygments_lexer": "ipython3",
   "version": "3.11.5"
  }
 },
 "nbformat": 4,
 "nbformat_minor": 5
}
